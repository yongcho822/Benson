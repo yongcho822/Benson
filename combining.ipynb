{
 "cells": [
  {
   "cell_type": "code",
   "execution_count": 2,
   "metadata": {
    "collapsed": false
   },
   "outputs": [
    {
     "name": "stdout",
     "output_type": "stream",
     "text": [
      "Done here.\n"
     ]
    }
   ],
   "source": [
    "import csv\n",
    "from operator import itemgetter\n",
    "from pprint import pprint\n",
    "\n",
    "combined_dict = {}\n",
    "geocode_dict = {}\n",
    "\n",
    "with open(\"Station_Totals.csv\", \"r\") as total, open(\"nycturnstiles/geocoded.csv\", \"r\") as geocode:\n",
    "    total_read = csv.reader(total)\n",
    "    geocode_read = csv.reader(geocode)\n",
    "    #row_count = sum(1 for row in total_read) - making sure there are 384 stations in our total.csv file\n",
    "\n",
    "    with open(\"combinedinfo.csv\", \"w\") as combined:\n",
    "        fields = ['Station', 'Total', 'Lat', 'Lng']\n",
    "        writer = csv.DictWriter(combined, fieldnames = fields, delimiter = ',')\n",
    "        writer.writeheader()\n",
    "        \n",
    "        for row in geocode_read:\n",
    "            splitrow = [row.split(',') for row in row]\n",
    "            lat = itemgetter(5)(splitrow)[0]\n",
    "            lng = itemgetter(6)(splitrow)[0]\n",
    "            station = (itemgetter(2)(splitrow)[0], itemgetter(3)(splitrow)[0])\n",
    "#             station = itemgetter(2)(splitrow)[0]\n",
    "            geocode_dict[station] = [lat, lng]\n",
    "#             print station\n",
    "#             print type(station)\n",
    "        \n",
    "        count = 0\n",
    "\n",
    "        for row in total_read:\n",
    "            station_name = eval(row[0])\n",
    "            totals = row[1]\n",
    "            if station_name in geocode_dict:\n",
    "                count += 1\n",
    "                combined_dict[\"Station\"] = station_name\n",
    "                combined_dict[\"Total\"] = totals\n",
    "                combined_dict[\"Lat\"] = geocode_dict[station_name][0]\n",
    "                combined_dict[\"Lng\"] = geocode_dict[station_name][1]\n",
    "                writer.writerow(combined_dict)\n",
    "        #print count - 463 stations\n",
    "print 'Done here.'"
   ]
  },
  {
   "cell_type": "code",
   "execution_count": 13,
   "metadata": {
    "collapsed": false
   },
   "outputs": [
    {
     "name": "stdout",
     "output_type": "stream",
     "text": [
      "455\n",
      "Done here.\n"
     ]
    }
   ],
   "source": [
    "combined_dict1 = {}\n",
    "geocode_dict1 = {}\n",
    "\n",
    "with open(\"Station_Complete_4wks_averages.csv\", \"r\") as total1, open(\"nycturnstiles/geocoded.csv\", \"r\") as geocode1:\n",
    "    total_read1 = csv.reader(total1)\n",
    "    geocode_read1 = csv.reader(geocode1)\n",
    "\n",
    "    with open(\"combined_complete_info.csv\", \"w\") as combined:\n",
    "        fields = ['Station', '4WkTotal', 'PerWkAverage', \n",
    "                  'Sat_Av', 'Sun_Av', 'Mon_Av', 'Tues_Av', 'Weds_Av', 'Thurs_Av', 'Fri_Av',\n",
    "                  'Lat', 'Lng']\n",
    "        writer = csv.DictWriter(combined, fieldnames = fields, delimiter = ',')\n",
    "        writer.writeheader()\n",
    "        \n",
    "        for row in geocode_read1:\n",
    "            splitrow = [row.split(',') for row in row]\n",
    "            lat = itemgetter(5)(splitrow)[0]\n",
    "            lng = itemgetter(6)(splitrow)[0]\n",
    "            station = (itemgetter(2)(splitrow)[0], itemgetter(3)(splitrow)[0])\n",
    "            geocode_dict[station] = [lat, lng]\n",
    "\n",
    "        count = 0\n",
    "\n",
    "        for row in total_read1:\n",
    "            station_name = eval(row[0])\n",
    "            fourwktotals = eval(row[1])[0]\n",
    "            perwkaverage = eval(row[1])[1]\n",
    "            try:\n",
    "                sat_av = eval(row[1])[2]\n",
    "                sun_av = eval(row[1])[3]\n",
    "                mon_av = eval(row[1])[4]\n",
    "                tues_av = eval(row[1])[5]\n",
    "                weds_av = eval(row[1])[6]\n",
    "                thurs_av = eval(row[1])[7]\n",
    "                fri_av = eval(row[1])[8]\n",
    "                if station_name in geocode_dict:\n",
    "                    count += 1\n",
    "                    combined_dict1[\"Station\"] = station_name\n",
    "                    combined_dict1[\"4WkTotal\"] = fourwktotals\n",
    "                    combined_dict1[\"PerWkAverage\"] = perwkaverage\n",
    "                    combined_dict1[\"Sat_Av\"] = sat_av\n",
    "                    combined_dict1[\"Sun_Av\"] = sun_av\n",
    "                    combined_dict1[\"Mon_Av\"] = mon_av\n",
    "                    combined_dict1[\"Tues_Av\"] = tues_av\n",
    "                    combined_dict1[\"Weds_Av\"] = weds_av\n",
    "                    combined_dict1[\"Thurs_Av\"] = thurs_av\n",
    "                    combined_dict1[\"Fri_Av\"] = fri_av\n",
    "                    combined_dict1[\"Lat\"] = geocode_dict[station_name][0]\n",
    "                    combined_dict1[\"Lng\"] = geocode_dict[station_name][1]\n",
    "                    writer.writerow(combined_dict1)\n",
    "            except:\n",
    "                pass\n",
    "        print count #- 463 stations\n",
    "print 'Done here.'"
   ]
  },
  {
   "cell_type": "code",
   "execution_count": null,
   "metadata": {
    "collapsed": true
   },
   "outputs": [],
   "source": []
  }
 ],
 "metadata": {
  "kernelspec": {
   "display_name": "Python 2",
   "language": "python",
   "name": "python2"
  },
  "language_info": {
   "codemirror_mode": {
    "name": "ipython",
    "version": 2
   },
   "file_extension": ".py",
   "mimetype": "text/x-python",
   "name": "python",
   "nbconvert_exporter": "python",
   "pygments_lexer": "ipython2",
   "version": "2.7.9"
  }
 },
 "nbformat": 4,
 "nbformat_minor": 0
}
